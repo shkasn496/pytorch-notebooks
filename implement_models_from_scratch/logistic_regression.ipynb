{
 "cells": [
  {
   "cell_type": "code",
   "execution_count": 1,
   "metadata": {},
   "outputs": [],
   "source": [
    "import numpy as np\n",
    "from sklearn.datasets import make_blobs"
   ]
  },
  {
   "cell_type": "code",
   "execution_count": 9,
   "metadata": {},
   "outputs": [],
   "source": [
    "# Dataset\n",
    "X_org, y_org = make_blobs(n_samples=10000, centers=2)\n",
    "\n",
    "y_org = y_org[:, np.newaxis]\n",
    "\n",
    "# hyperparameters\n",
    "n_features = X_org.shape[1]\n",
    "epochs = 1000\n",
    "lr = 0.001\n",
    "batch_size = 20\n",
    "\n",
    "# Convert the data into batches as defined by batch size\n",
    "X_train = X_org.reshape((batch_size,-1,n_features)) \n",
    "y_train = y_org.reshape((batch_size,-1,1))\n"
   ]
  },
  {
   "cell_type": "code",
   "execution_count": 10,
   "metadata": {},
   "outputs": [
    {
     "data": {
      "text/plain": [
       "((20, 500, 2), (20, 500, 1))"
      ]
     },
     "execution_count": 10,
     "metadata": {},
     "output_type": "execute_result"
    }
   ],
   "source": [
    "X_train.shape, y_train.shape"
   ]
  },
  {
   "cell_type": "code",
   "execution_count": 11,
   "metadata": {},
   "outputs": [],
   "source": [
    "class LogisticRegression():\n",
    "    def __init__(self, features):\n",
    "        self.weights = np.ones((features, 1))\n",
    "        self.bias = 0\n",
    "        return\n",
    "    def forward(self, x):\n",
    "        y_hat = np.dot(x, self.weights)+self.bias\n",
    "        return 1/(1+np.exp(-y_hat)) #return sigmoid probability"
   ]
  },
  {
   "cell_type": "code",
   "execution_count": 15,
   "metadata": {},
   "outputs": [],
   "source": [
    "model = LogisticRegression(features=n_features)\n",
    "# training loop\n",
    "train_loss = []\n",
    "for epoch in range(epochs):\n",
    "    for batch_idx, (data, target) in enumerate(zip(X_train, y_train)):\n",
    "        # input formatting\n",
    "\n",
    "        m = data.shape[0] # no. of samples\n",
    "        data, target = np.array(data), np.array(target) # 500x2, 500\n",
    "\n",
    "        # Forward Pass\n",
    "        y_hat = model.forward(data)\n",
    "        \n",
    "        # Calculate Loss \n",
    "        # Binary Cross Entropy Loss\n",
    "        # L = -1/m(y*log(y_hat)+(1-y)log(1-y_hat))\n",
    "        avg_batch_loss = -( np.sum(target * np.log(y_hat)) + (1-target) * np.log((1-y_hat)) ) /m\n",
    "\n",
    "        train_loss.append(avg_batch_loss)\n",
    "        \n",
    "        # Backward Pass: Calculate gradients of loss wrt to weights\n",
    "        dl_dw = np.dot(data.T, (y_hat-target))/m\n",
    "        dl_db = (y_hat-target)/m\n",
    "\n",
    "        # Optimize: Update the weights and biases\n",
    "        model.weights-=lr*dl_dw\n",
    "        model.bias-=lr*dl_db\n",
    "\n",
    "mean_train_loss = np.mean(train_loss)"
   ]
  },
  {
   "cell_type": "code",
   "execution_count": 22,
   "metadata": {},
   "outputs": [],
   "source": [
    "def predict():\n",
    "        accuracy = []\n",
    "        for batch_idx, (data, target) in enumerate(zip(X_train, y_train)):\n",
    "                # input formatting\n",
    "\n",
    "                m = data.shape[0] # no. of samples\n",
    "                data, target = np.array(data), np.array(target) # 500x2, 500\n",
    "\n",
    "                # Forward Pass\n",
    "                y_hat = model.forward(data)\n",
    "\n",
    "                y_pred = y_hat > 0.5\n",
    "\n",
    "                accuracy.append(np.sum(y_pred==target)/m)\n",
    "        return np.mean(accuracy)*100"
   ]
  },
  {
   "cell_type": "code",
   "execution_count": 23,
   "metadata": {},
   "outputs": [
    {
     "data": {
      "text/plain": [
       "99.99"
      ]
     },
     "execution_count": 23,
     "metadata": {},
     "output_type": "execute_result"
    }
   ],
   "source": [
    "predict()"
   ]
  },
  {
   "cell_type": "code",
   "execution_count": null,
   "metadata": {},
   "outputs": [],
   "source": []
  }
 ],
 "metadata": {
  "kernelspec": {
   "display_name": ".venv",
   "language": "python",
   "name": "python3"
  },
  "language_info": {
   "codemirror_mode": {
    "name": "ipython",
    "version": 3
   },
   "file_extension": ".py",
   "mimetype": "text/x-python",
   "name": "python",
   "nbconvert_exporter": "python",
   "pygments_lexer": "ipython3",
   "version": "3.11.3"
  },
  "orig_nbformat": 4,
  "vscode": {
   "interpreter": {
    "hash": "3cfdb778f199dae3f0fbf662e64034c189d071d54e6b01545d03a400544af2e2"
   }
  }
 },
 "nbformat": 4,
 "nbformat_minor": 2
}
